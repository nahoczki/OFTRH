{
 "cells": [
  {
   "cell_type": "code",
   "execution_count": 101,
   "metadata": {},
   "outputs": [],
   "source": [
    "#imports\n",
    "import numpy as np\n",
    "import pandas as pd\n",
    "import math\n",
    "\n",
    "import matplotlib.pyplot as plt\n",
    "import seaborn as sns\n",
    "\n",
    "pd.options.mode.chained_assignment = None "
   ]
  },
  {
   "cell_type": "code",
   "execution_count": 6,
   "metadata": {},
   "outputs": [],
   "source": [
    "# importing graphs\n",
    "hospital_df = pd.read_csv(\"hosp_data.csv\")\n",
    "crime_df = pd.read_csv(\"crime_data.csv\")"
   ]
  },
  {
   "cell_type": "code",
   "execution_count": 92,
   "metadata": {},
   "outputs": [],
   "source": [
    "# Enum for converting state abrv to full name\n",
    "# https://gist.github.com/rogerallen/1583593\n",
    "\n",
    "us_state_to_abbrev = {\n",
    "    \"Alabama\": \"AL\",\n",
    "    \"Alaska\": \"AK\",\n",
    "    \"Arizona\": \"AZ\",\n",
    "    \"Arkansas\": \"AR\",\n",
    "    \"California\": \"CA\",\n",
    "    \"Colorado\": \"CO\",\n",
    "    \"Connecticut\": \"CT\",\n",
    "    \"Delaware\": \"DE\",\n",
    "    \"Florida\": \"FL\",\n",
    "    \"Georgia\": \"GA\",\n",
    "    \"Hawaii\": \"HI\",\n",
    "    \"Idaho\": \"ID\",\n",
    "    \"Illinois\": \"IL\",\n",
    "    \"Indiana\": \"IN\",\n",
    "    \"Iowa\": \"IA\",\n",
    "    \"Kansas\": \"KS\",\n",
    "    \"Kentucky\": \"KY\",\n",
    "    \"Louisiana\": \"LA\",\n",
    "    \"Maine\": \"ME\",\n",
    "    \"Maryland\": \"MD\",\n",
    "    \"Massachusetts\": \"MA\",\n",
    "    \"Michigan\": \"MI\",\n",
    "    \"Minnesota\": \"MN\",\n",
    "    \"Mississippi\": \"MS\",\n",
    "    \"Missouri\": \"MO\",\n",
    "    \"Montana\": \"MT\",\n",
    "    \"Nebraska\": \"NE\",\n",
    "    \"Nevada\": \"NV\",\n",
    "    \"New Hampshire\": \"NH\",\n",
    "    \"New Jersey\": \"NJ\",\n",
    "    \"New Mexico\": \"NM\",\n",
    "    \"New York\": \"NY\",\n",
    "    \"North Carolina\": \"NC\",\n",
    "    \"North Dakota\": \"ND\",\n",
    "    \"Ohio\": \"OH\",\n",
    "    \"Oklahoma\": \"OK\",\n",
    "    \"Oregon\": \"OR\",\n",
    "    \"Pennsylvania\": \"PA\",\n",
    "    \"Rhode Island\": \"RI\",\n",
    "    \"South Carolina\": \"SC\",\n",
    "    \"South Dakota\": \"SD\",\n",
    "    \"Tennessee\": \"TN\",\n",
    "    \"Texas\": \"TX\",\n",
    "    \"Utah\": \"UT\",\n",
    "    \"Vermont\": \"VT\",\n",
    "    \"Virginia\": \"VA\",\n",
    "    \"Washington\": \"WA\",\n",
    "    \"West Virginia\": \"WV\",\n",
    "    \"Wisconsin\": \"WI\",\n",
    "    \"Wyoming\": \"WY\",\n",
    "    \"District of Columbia\": \"DC\",\n",
    "}\n",
    "\n",
    "abbrev_to_us_state = dict(map(reversed, us_state_to_abbrev.items()))\n",
    "us_state_list = list (us_state_to_abbrev.values())"
   ]
  },
  {
   "cell_type": "markdown",
   "metadata": {},
   "source": [
    " # Operation Find Top-Rated Hospitals (OFTRH)"
   ]
  },
  {
   "cell_type": "markdown",
   "metadata": {},
   "source": [
    " ### Abstract\n",
    "\n",
    "Finding quality healthcare is important. The goal of this project is to provide patients with listings of top- rated hospitals near them, so they are provided with timely and quality care. With this information, another goal of this project is to attempt to explain reasoning for the such hospital ratings by comparing crime rates in the same areas. We hypothesize areas with higher crime rates will have lower funded hospitals and will therefore have lower hospital ratings and areas with lower crime rates will have better funded hospitals and therefore higher quality hospital ratings. To accomplish this, we will use the Hospital General Information data set available at this [site](https://data.cms.gov/provider-data/topics/hospitals) and extract the hospital ratings data for each state. The data provides key information on hospitals in the US including their name, state, rating and type of hospital ownership (government, proprietary, voluntary (non-profit), etc.). To determine the correlation(s) between hospital ratings and crime rates we will use the crime rate dataset from this [site](https://worldpopulationreview.com/state-rankings/crime-rate-by-state)."
   ]
  },
  {
   "cell_type": "markdown",
   "metadata": {},
   "source": [
    " ### Hypothesis\n",
    "    \n",
    "We hypothesize areas with higher crime rates will have lower funded hospitals and will therefore have lower hospital ratings and areas with lower crime rates will have better funded hospitals and therefore higher quality hospital ratings."
   ]
  },
  {
   "cell_type": "markdown",
   "metadata": {},
   "source": [
    " ### Process\n",
    " \n",
    " We will have to extract the hospital data organized by state then find correlations between the organized data and the crime rates by state. \n",
    " "
   ]
  },
  {
   "cell_type": "code",
   "execution_count": 112,
   "metadata": {
    "scrolled": true
   },
   "outputs": [],
   "source": [
    "# Takes in state input as abbr (WI, IL, etc)\n",
    "def getOverallRatingsByStateAbbr(state_abbr):\n",
    "    stateHospitals = hospital_df[hospital_df[\"State\"] == state_abbr]\n",
    "    # Drop `Not Available` then replace them with the mean of the dataset without `Not Available`\n",
    "    cleanedHospitalRating = stateHospitals[\"Hospital overall rating\"].replace(\"Not Available\", np.nan).dropna().astype(\"int64\")\n",
    "    return stateHospitals[\"Hospital overall rating\"].replace(\"Not Available\", cleanedHospitalRating.mean()).astype(\"int64\")\n",
    "\n",
    "# Get all hospitals by the state\n",
    "def getHospitalsByStateAbbr(state_abbr):\n",
    "    return hospital_df[hospital_df[\"State\"] == state_abbr]\n",
    "\n",
    "# Get all of the crime rates by state\n",
    "def getCrimeRateByStateAbbr(state_abbr):\n",
    "    return crime_df[crime_df[\"state\"] == abbrev_to_us_state[state_abbr]]\n",
    "\n",
    "# Get the top rated hospital by state\n",
    "def getTopRatedHospitalByStateAbbr(state_abbr):\n",
    "    hospitals = getHospitalsByStateAbbr(state_abbr)\n",
    "    hospitals.loc[:,\"Hospital overall rating\"] = hospitals[\"Hospital overall rating\"].replace(\"Not Available\", \"0\").astype(\"int64\")\n",
    "    sorted = hospitals.sort_values(by=[\"Hospital overall rating\"], ascending=False)\n",
    "    \n",
    "    return sorted.iloc[0]\n",
    "\n",
    "# Get total number of hospitals by state\n",
    "def getNumberOfHospitalsByStateAbbr(state_abbr):\n",
    "    return len(getHospitalsByStateAbbr(state_abbr))"
   ]
  },
  {
   "cell_type": "markdown",
   "metadata": {},
   "source": [
    "<h3>How the overall hospital rating is decided.</h3>\n",
    "<p>This rating summarizes a variety of measures across 5 areas of quality into a single star rating for each hospital.</p>\n",
    "<p>The 5 measure groups and their weight used in calculation are as follows:\n",
    "    <ul>\n",
    "        <li>Mortality: 22%</li>\n",
    "        <li>Safety: 22%</li>\n",
    "        <li>Readmission: 22%</li>\n",
    "        <li>Patient Experience: 22%</li>\n",
    "        <li>Timely & Effective Care: 12%</li>\n",
    "    </ul>\n",
    "</p>"
   ]
  },
  {
   "cell_type": "markdown",
   "metadata": {},
   "source": [
    "| Overall Rating | Percentage of Hospitals |\n",
    "| :-------- | :------- |\n",
    "| 1 star | 6.34% |\n",
    "| 2 star | 22.49% |\n",
    "| 3 star | 28.68% |\n",
    "| 4 star | 28.68% |\n",
    "| 5 star | 13.81% |"
   ]
  },
  {
   "cell_type": "code",
   "execution_count": 13,
   "metadata": {},
   "outputs": [
    {
     "data": {
      "text/plain": [
       "3.163157894736842"
      ]
     },
     "execution_count": 13,
     "metadata": {},
     "output_type": "execute_result"
    }
   ],
   "source": [
    "getOverallRatingsByStateAbbr('IL').mean()"
   ]
  },
  {
   "cell_type": "code",
   "execution_count": 20,
   "metadata": {},
   "outputs": [
    {
     "data": {
      "text/plain": [
       "3544.667"
      ]
     },
     "execution_count": 20,
     "metadata": {},
     "output_type": "execute_result"
    }
   ],
   "source": [
    "getCrimeRateByStateAbbr(\"IL\")['rate'].sum()"
   ]
  },
  {
   "cell_type": "markdown",
   "metadata": {},
   "source": [
    "### Correlation \n",
    "Correlation is a statistical measure that expresses the extent to which two variables are linearly related (meaning they change together at a constant rate). It's a common tool for describing simple relationships without making a statement about cause and effect"
   ]
  },
  {
   "cell_type": "code",
   "execution_count": 114,
   "metadata": {},
   "outputs": [],
   "source": [
    "# for state in us_state_list:\n",
    "#     print (state)"
   ]
  },
  {
   "cell_type": "code",
   "execution_count": 113,
   "metadata": {},
   "outputs": [
    {
     "name": "stdout",
     "output_type": "stream",
     "text": [
      "   states  hospital_ratings  crime_rates\n",
      "0      AL          3.010204     4727.065\n",
      "1      AK          2.240000     5358.896\n",
      "2      AZ          2.510000     4940.118\n",
      "3      AR          2.511628     5898.753\n",
      "4      CA          3.005376     4719.900\n",
      "5      CO          3.451613     6090.756\n",
      "6      CT          3.305556     3311.746\n",
      "7      DE          3.000000     4354.642\n",
      "8      FL          2.682692     3922.458\n",
      "9      GA          2.523810     4414.802\n",
      "10     HI          4.040000     5076.880\n",
      "11     ID          3.340426     2466.346\n",
      "12     IL          3.163158     3544.667\n",
      "13     IN          3.232877     3924.039\n",
      "14     IA          3.264957     3699.976\n",
      "15     KS          3.108696     4823.212\n",
      "16     KY          2.594059     3818.102\n",
      "17     LA          3.025316     6408.216\n",
      "18     ME          3.243243     2420.932\n",
      "19     MD          2.672727     3619.488\n",
      "20     MA          3.329114     2415.177\n",
      "21     MI          3.300699     3199.772\n",
      "22     MN          3.308824     4527.250\n",
      "23     MS          2.194175     4494.426\n",
      "24     MO          3.252101     5604.784\n",
      "25     MT          3.206349     4711.464\n",
      "26     NE          3.208791     4152.405\n",
      "27     NV          2.130435     4313.506\n",
      "28     NH          3.428571     2344.184\n",
      "29     NJ          2.594937     2511.751\n",
      "30     NM          2.170213     6462.032\n",
      "31     NY          2.385870     3185.200\n",
      "32     NC          3.307692     4872.292\n",
      "33     ND          3.000000     4577.236\n",
      "34     OH          3.517949     4009.418\n",
      "35     OK          3.106870     5869.825\n",
      "36     OR          3.516129     5609.893\n",
      "37     PA          3.398907     3677.679\n",
      "38     RI          3.416667     2721.722\n",
      "39     SC          3.059701     5972.837\n",
      "40     SD          3.203390     4414.837\n",
      "41     TN          3.042373     5658.304\n",
      "42     TX          3.146608     4936.535\n",
      "43     UT          4.057692     5189.516\n",
      "44     VT          3.687500     2607.376\n",
      "45     VA          3.268817     3121.483\n",
      "46     WA          3.196078     5758.570\n",
      "47     WV          2.340000     3154.662\n",
      "48     WI          3.500000     3294.709\n",
      "49     WY          3.000000     3455.441\n",
      "50     DC          2.111111     7985.932\n"
     ]
    }
   ],
   "source": [
    "# get all state hospital ratings (mean) and crime rates and create a dataframe\n",
    "\n",
    "states = []\n",
    "hospital_ratings = []\n",
    "crime_rates = []\n",
    "\n",
    "for state in us_state_list:\n",
    "    # add state to states array\n",
    "    states.append(state)\n",
    "    # add hospital rating to hospital_ratings array\n",
    "    hospital_ratings.append(getOverallRatingsByStateAbbr(state).mean())\n",
    "    # add crime rate to crime rates array\n",
    "    crime_rates.append(getCrimeRateByStateAbbr(state)['rate'].sum())\n",
    "    \n",
    "df = pd.DataFrame({ \"states\": states, \"hospital_ratings\": hospital_ratings, \"crime_rates\": crime_rates })\n",
    "print(df)"
   ]
  },
  {
   "cell_type": "code",
   "execution_count": 115,
   "metadata": {},
   "outputs": [
    {
     "data": {
      "image/png": "[encoded data removed]",
      "text/plain": [
       "<Figure size 432x288 with 1 Axes>"
      ]
     },
     "metadata": {
      "needs_background": "light"
     },
     "output_type": "display_data"
    }
   ],
   "source": [
    "# Make bargraph\n",
    "X_axis = np.arange(len(df.states))\n",
    "plt.bar(X_axis -0.2, df['hospital_ratings'].values, 0.4, label=\"Hospital Rating\")\n",
    "plt.bar(X_axis +0.2, df['crime_rates'].values, 0.4, label=\"Crime Rate\")\n",
    "plt.xticks(X_axis, df['states'].values)\n",
    "plt.xlabel(\"State\")\n",
    "plt.ylabel(\"Rating Score\")\n",
    "plt.title(\"Hospital Rating & Crime Rating per State\")\n",
    "plt.legend()\n",
    "plt.show()"
   ]
  },
  {
   "cell_type": "code",
   "execution_count": 118,
   "metadata": {},
   "outputs": [
    {
     "data": {
      "image/png": "[encoded data removed]",
      "text/plain": [
       "<Figure size 432x288 with 1 Axes>"
      ]
     },
     "metadata": {
      "needs_background": "light"
     },
     "output_type": "display_data"
    }
   ],
   "source": [
    "#Cooler Scatterplot\n",
    "plt.xlabel('Hospital Rating')\n",
    "plt.ylabel('Crime Rate')\n",
    "plt.title(\"Hospital Rating & Crime Rating Scatter\")\n",
    "plt.show(sns.regplot(x='hospital_ratings', y='crime_rates', data = df))"
   ]
  }
 ],
 "metadata": {
  "kernelspec": {
   "display_name": "Python 3 (ipykernel)",
   "language": "python",
   "name": "python3"
  },
  "language_info": {
   "codemirror_mode": {
    "name": "ipython",
    "version": 3
   },
   "file_extension": ".py",
   "mimetype": "text/x-python",
   "name": "python",
   "nbconvert_exporter": "python",
   "pygments_lexer": "ipython3",
   "version": "3.9.12"
  }
 },
 "nbformat": 4,
 "nbformat_minor": 2
}
