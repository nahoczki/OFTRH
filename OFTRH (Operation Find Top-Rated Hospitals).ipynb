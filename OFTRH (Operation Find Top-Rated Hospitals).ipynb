{
 "cells": [
  {
   "cell_type": "code",
   "execution_count": 166,
   "metadata": {},
   "outputs": [],
   "source": [
    "#imports\n",
    "import numpy as np\n",
    "import pandas as pd\n",
    "import math\n",
    "\n",
    "import matplotlib.pyplot as plt\n",
    "import seaborn as sns\n",
    "\n",
    "pd.options.mode.chained_assignment = None "
   ]
  },
  {
   "cell_type": "code",
   "execution_count": 167,
   "metadata": {},
   "outputs": [],
   "source": [
    "# importing graphs\n",
    "hospital_df = pd.read_csv(\"hosp_data.csv\")\n",
    "crime_df = pd.read_csv(\"crime_data.csv\")\n",
    "city_pop_df = pd.read_excel('city_pop.xlsx')"
   ]
  },
  {
   "cell_type": "code",
   "execution_count": 168,
   "metadata": {},
   "outputs": [],
   "source": [
    "# Enum for converting state abrv to full name\n",
    "# https://gist.github.com/rogerallen/1583593\n",
    "\n",
    "us_state_to_abbrev = {\n",
    "    \"Alabama\": \"AL\",\n",
    "    \"Alaska\": \"AK\",\n",
    "    \"Arizona\": \"AZ\",\n",
    "    \"Arkansas\": \"AR\",\n",
    "    \"California\": \"CA\",\n",
    "    \"Colorado\": \"CO\",\n",
    "    \"Connecticut\": \"CT\",\n",
    "    \"Delaware\": \"DE\",\n",
    "    \"Florida\": \"FL\",\n",
    "    \"Georgia\": \"GA\",\n",
    "    \"Hawaii\": \"HI\",\n",
    "    \"Idaho\": \"ID\",\n",
    "    \"Illinois\": \"IL\",\n",
    "    \"Indiana\": \"IN\",\n",
    "    \"Iowa\": \"IA\",\n",
    "    \"Kansas\": \"KS\",\n",
    "    \"Kentucky\": \"KY\",\n",
    "    \"Louisiana\": \"LA\",\n",
    "    \"Maine\": \"ME\",\n",
    "    \"Maryland\": \"MD\",\n",
    "    \"Massachusetts\": \"MA\",\n",
    "    \"Michigan\": \"MI\",\n",
    "    \"Minnesota\": \"MN\",\n",
    "    \"Mississippi\": \"MS\",\n",
    "    \"Missouri\": \"MO\",\n",
    "    \"Montana\": \"MT\",\n",
    "    \"Nebraska\": \"NE\",\n",
    "    \"Nevada\": \"NV\",\n",
    "    \"New Hampshire\": \"NH\",\n",
    "    \"New Jersey\": \"NJ\",\n",
    "    \"New Mexico\": \"NM\",\n",
    "    \"New York\": \"NY\",\n",
    "    \"North Carolina\": \"NC\",\n",
    "    \"North Dakota\": \"ND\",\n",
    "    \"Ohio\": \"OH\",\n",
    "    \"Oklahoma\": \"OK\",\n",
    "    \"Oregon\": \"OR\",\n",
    "    \"Pennsylvania\": \"PA\",\n",
    "    \"Rhode Island\": \"RI\",\n",
    "    \"South Carolina\": \"SC\",\n",
    "    \"South Dakota\": \"SD\",\n",
    "    \"Tennessee\": \"TN\",\n",
    "    \"Texas\": \"TX\",\n",
    "    \"Utah\": \"UT\",\n",
    "    \"Vermont\": \"VT\",\n",
    "    \"Virginia\": \"VA\",\n",
    "    \"Washington\": \"WA\",\n",
    "    \"West Virginia\": \"WV\",\n",
    "    \"Wisconsin\": \"WI\",\n",
    "    \"Wyoming\": \"WY\",\n",
    "    \"District of Columbia\": \"DC\",\n",
    "}\n",
    "\n",
    "abbrev_to_us_state = dict(map(reversed, us_state_to_abbrev.items()))\n",
    "us_state_list = list (us_state_to_abbrev.values())"
   ]
  },
  {
   "cell_type": "markdown",
   "metadata": {},
   "source": [
    " # Operation Find Top-Rated Hospitals (OFTRH)"
   ]
  },
  {
   "cell_type": "markdown",
   "metadata": {},
   "source": [
    " ### Abstract\n",
    "\n",
    "Finding quality healthcare is important. The goal of this project is to provide patients with listings of top- rated hospitals near them, so they are provided with timely and quality care. With this information, another goal of this project is to attempt to explain reasoning for the such hospital ratings by comparing crime rates in the same areas. We hypothesize areas with higher crime rates will have lower funded hospitals and will therefore have lower hospital ratings and areas with lower crime rates will have better funded hospitals and therefore higher quality hospital ratings. To accomplish this, we will use the Hospital General Information data set available at this [site](https://data.cms.gov/provider-data/topics/hospitals) and extract the hospital ratings data for each state. The data provides key information on hospitals in the US including their name, state, rating and type of hospital ownership (government, proprietary, voluntary (non-profit), etc.). To determine the correlation(s) between hospital ratings and crime rates we will use the crime rate dataset from this [site](https://worldpopulationreview.com/state-rankings/crime-rate-by-state)."
   ]
  },
  {
   "cell_type": "markdown",
   "metadata": {},
   "source": [
    "### Significance of Data Analysis\n",
    "\n",
    "The analysis of this data will allow individuals to find the top-rated hospital in their state. With this information individuals can find comfort in knowing that the hospital they select to recieve care from is going to supply them with top-rated care, and it will allow them to avoid low-rating hospitals in their state."
   ]
  },
  {
   "cell_type": "markdown",
   "metadata": {},
   "source": [
    "<h3>How the overall hospital rating is decided.</h3>\n",
    "<p>This rating summarizes a variety of measures across 5 areas of quality into a single star rating for each hospital.</p>\n",
    "<p>The 5 measure groups and their weight used in calculation are as follows:\n",
    "    <ul>\n",
    "        <li>Mortality: 22%</li>\n",
    "        <li>Safety: 22%</li>\n",
    "        <li>Readmission: 22%</li>\n",
    "        <li>Patient Experience: 22%</li>\n",
    "        <li>Timely & Effective Care: 12%</li>\n",
    "    </ul>\n",
    "</p>"
   ]
  },
  {
   "cell_type": "markdown",
   "metadata": {},
   "source": [
    "| Overall Rating | Percentage of Hospitals |\n",
    "| :-------- | :------- |\n",
    "| 1 star | 6.34% |\n",
    "| 2 star | 22.49% |\n",
    "| 3 star | 28.68% |\n",
    "| 4 star | 28.68% |\n",
    "| 5 star | 13.81% |"
   ]
  },
  {
   "cell_type": "markdown",
   "metadata": {},
   "source": [
    "### What does \"crime rate\" mean?\n",
    "It indicates the amount of crime per 100,000 people."
   ]
  },
  {
   "cell_type": "markdown",
   "metadata": {},
   "source": [
    "### Project Literature\n",
    "- Areas that have lower crime rates have less deaths by crimes, which means lower mortality rates at hospitals which in turn give hospitals higher ratings.\n",
    "- Areas with higher crime rates equates to more individuals from crimes being treated in hopsitals which in turn can make patients not feel as safe or not have as good of an experience which gives hospitals lower ratings.\n",
    "- Areas with higher rates of crime have to spend more money on situations pertaining to violence and therefore have less funds to put elsewhere that may make the rating of the hospital higher.\n",
    "- crime is higher in less financially equipped areas, less financially equipped areas have less funding for hospitals which results in lower overall hospital ratings"
   ]
  },
  {
   "cell_type": "markdown",
   "metadata": {},
   "source": [
    " ### Hypothesis\n",
    "    \n",
    "We hypothesize areas with higher crime rates will have lower funded hospitals and will therefore have lower hospital ratings and areas with lower crime rates will have better funded hospitals and therefore higher quality hospital ratings."
   ]
  },
  {
   "cell_type": "markdown",
   "metadata": {},
   "source": [
    " ### Process\n",
    " \n",
    " We will have to extract the hospital data organized by state then find correlations between the organized data and the crime rates by state. \n",
    " "
   ]
  },
  {
   "cell_type": "code",
   "execution_count": 169,
   "metadata": {
    "scrolled": true
   },
   "outputs": [],
   "source": [
    "# Takes in state input as abbr (WI, IL, etc)\n",
    "def getOverallRatingsByStateAbbr(state_abbr):\n",
    "    stateHospitals = hospital_df[hospital_df[\"State\"] == state_abbr]\n",
    "    # Drop `Not Available` then replace them with the mean of the dataset without `Not Available`\n",
    "    cleanedHospitalRating = stateHospitals[\"Hospital overall rating\"].replace(\"Not Available\", np.nan).dropna().astype(\"int64\")\n",
    "    return stateHospitals[\"Hospital overall rating\"].replace(\"Not Available\", cleanedHospitalRating.mean()).astype(\"int64\")\n",
    "\n",
    "def getOverallRatingsByCity(city):\n",
    "    try:\n",
    "        cityHospitals = hospital_df[hospital_df[\"City\"] == city]\n",
    "        cleanedHospitalRating = cityHospitals[\"Hospital overall rating\"].replace(\"Not Available\", np.nan).dropna().astype(\"int64\")\n",
    "        return cityHospitals[\"Hospital overall rating\"].replace(\"Not Available\", cleanedHospitalRating.mean()).astype(\"int64\")\n",
    "    except:\n",
    "        return \"dont include this city, can't be converted\"\n",
    "\n",
    "def getOverallRatingsByHospitalOwnership(hospital_ownership):\n",
    "    hospital_ownership = hospital_df[hospital_df[\"Hospital Ownership\"] == hospital_ownership]\n",
    "    # Drop `Not Available` then replace them with the mean of the dataset without `Not Available`\n",
    "    cleanedHospitalRating = hospital_ownership[\"Hospital overall rating\"].replace(\"Not Available\", np.nan).dropna().astype(\"int64\")\n",
    "    return hospital_ownership[\"Hospital overall rating\"].replace(\"Not Available\", cleanedHospitalRating.mean()).astype(\"int64\")\n",
    "\n",
    "# Get all hospitals by the state\n",
    "def getHospitalsByStateAbbr(state_abbr):\n",
    "    return hospital_df[hospital_df[\"State\"] == state_abbr]\n",
    "\n",
    "# Get all of the crime rates by state\n",
    "def getCrimeRateByStateAbbr(state_abbr):\n",
    "    return crime_df[crime_df[\"state\"] == abbrev_to_us_state[state_abbr]]\n",
    "\n",
    "# Get the top rated hospital by state\n",
    "def getTopRatedHospitalByStateAbbr(state_abbr):\n",
    "    hospitals = getHospitalsByStateAbbr(state_abbr)\n",
    "    hospitals.loc[:,\"Hospital overall rating\"] = hospitals[\"Hospital overall rating\"].replace(\"Not Available\", \"0\").astype(\"int64\")\n",
    "    sorted = hospitals.sort_values(by=[\"Hospital overall rating\"], ascending=False)\n",
    "    \n",
    "    return sorted.iloc[0], sorted.iloc[2], sorted.iloc[3], sorted.iloc[4], sorted.iloc[5], sorted.iloc[6], sorted.iloc[7], sorted.iloc[8], sorted.iloc[9]\n",
    "\n",
    "# Get total number of hospitals by state\n",
    "def getNumberOfHospitalsByStateAbbr(state_abbr):\n",
    "    return len(getHospitalsByStateAbbr(state_abbr))\n",
    "\n",
    "# Get population by city from \"April 1st, 2020\"\n",
    "def getPopulationByCity(city):\n",
    "    try:\n",
    "        return city_pop_df.loc[city_pop_df['Geographic Area'].str.lower().str.contains(city.lower())][\"April 1st, 2020\"].values[0]\n",
    "    except:\n",
    "        return f\"Not Found: {city}\"\n",
    "\n",
    "ownerships = {}\n",
    "# Type of hospital ownership by ratings\n",
    "for ind in hospital_df.index:\n",
    "    if hospital_df[\"Hospital Ownership\"][ind] in ownerships:\n",
    "        ownerships[hospital_df[\"Hospital Ownership\"][ind]] = ownerships[hospital_df[\"Hospital Ownership\"][ind]] + 1\n",
    "    else:\n",
    "        ownerships[hospital_df[\"Hospital Ownership\"][ind]] = 1\n",
    "\n",
    "\n",
    "# {'Government - Hospital District or Authority': 524,\n",
    "#  'Proprietary': 1057,\n",
    "#  'Voluntary non-profit - Private': 2254,\n",
    "#  'Government - State': 204, \n",
    "#  'Voluntary non-profit - Other': 380,\n",
    "#  'Government - Local': 424,\n",
    "#  'Voluntary non-profit - Church': 299,\n",
    "#  'Government - Federal': 46,\n",
    "#  'Tribal': 10, \n",
    "#  'Physician': 74}\n",
    "\n",
    "del ownerships['Department of Defense']\n",
    "\n",
    "def get_swap_dict(d):\n",
    "    return {v: k for k, v in d.items()}\n",
    "\n",
    "# swap keys and values of the dictionary \n",
    "s_ownerships = get_swap_dict(ownerships)"
   ]
  },
  {
   "cell_type": "markdown",
   "metadata": {},
   "source": [
    "### Get Top-Rated Hospitals In Your State"
   ]
  },
  {
   "cell_type": "code",
   "execution_count": 170,
   "metadata": {},
   "outputs": [
    {
     "data": {
      "text/plain": [
       "(Facility ID                                                                                     520070\n",
       " Facility Name                                            MAYO CLINIC HEALTH SYSTEM EAU CLAIRE HOSPITAL\n",
       " Address                                                                                1221 WHIPPLE ST\n",
       " City                                                                                        EAU CLAIRE\n",
       " State                                                                                               WI\n",
       " ZIP Code                                                                                         54703\n",
       " County Name                                                                                 EAU CLAIRE\n",
       " Phone Number                                                                            (715) 838-3311\n",
       " Hospital Type                                                                     Acute Care Hospitals\n",
       " Hospital Ownership                                                      Voluntary non-profit - Private\n",
       " Emergency Services                                                                                 Yes\n",
       " Meets criteria for promoting interoperability of EHRs                                                Y\n",
       " Hospital overall rating                                                                              5\n",
       " Hospital overall rating footnote                                                                   NaN\n",
       " MORT Group Measure Count                                                                             7\n",
       " Count of Facility MORT Measures                                                                      7\n",
       " Count of MORT Measures Better                                                                        0\n",
       " Count of MORT Measures No Different                                                                  7\n",
       " Count of MORT Measures Worse                                                                         0\n",
       " MORT Group Footnote                                                                                NaN\n",
       " Safety Group Measure Count                                                                           8\n",
       " Count of Facility Safety Measures                                                                    7\n",
       " Count of Safety Measures Better                                                                      1\n",
       " Count of Safety Measures No Different                                                                6\n",
       " Count of Safety Measures Worse                                                                       0\n",
       " Safety Group Footnote                                                                              NaN\n",
       " READM Group Measure Count                                                                           11\n",
       " Count of Facility READM Measures                                                                    11\n",
       " Count of READM Measures Better                                                                       2\n",
       " Count of READM Measures No Different                                                                 9\n",
       " Count of READM Measures Worse                                                                        0\n",
       " READM Group Footnote                                                                               NaN\n",
       " Pt Exp Group Measure Count                                                                           8\n",
       " Count of Facility Pt Exp Measures                                                                    8\n",
       " Pt Exp Group Footnote                                                                              NaN\n",
       " TE Group Measure Count                                                                              12\n",
       " Count of Facility TE Measures                                                                        8\n",
       " TE Group Footnote                                                                                  NaN\n",
       " Name: 5095, dtype: object,\n",
       " Facility ID                                                                     521358\n",
       " Facility Name                                               DOOR COUNTY MEDICAL CENTER\n",
       " Address                                                          323 SOUTH 18TH AVENUE\n",
       " City                                                                      STURGEON BAY\n",
       " State                                                                               WI\n",
       " ZIP Code                                                                         54235\n",
       " County Name                                                                       DOOR\n",
       " Phone Number                                                            (920) 743-5566\n",
       " Hospital Type                                                Critical Access Hospitals\n",
       " Hospital Ownership                                       Voluntary non-profit - Church\n",
       " Emergency Services                                                                 Yes\n",
       " Meets criteria for promoting interoperability of EHRs                                Y\n",
       " Hospital overall rating                                                              5\n",
       " Hospital overall rating footnote                                                   NaN\n",
       " MORT Group Measure Count                                                             7\n",
       " Count of Facility MORT Measures                                                      3\n",
       " Count of MORT Measures Better                                                        0\n",
       " Count of MORT Measures No Different                                                  3\n",
       " Count of MORT Measures Worse                                                         0\n",
       " MORT Group Footnote                                                                NaN\n",
       " Safety Group Measure Count                                                           8\n",
       " Count of Facility Safety Measures                                                    2\n",
       " Count of Safety Measures Better                                                      0\n",
       " Count of Safety Measures No Different                                                2\n",
       " Count of Safety Measures Worse                                                       0\n",
       " Safety Group Footnote                                                              NaN\n",
       " READM Group Measure Count                                                           11\n",
       " Count of Facility READM Measures                                                     5\n",
       " Count of READM Measures Better                                                       1\n",
       " Count of READM Measures No Different                                                 4\n",
       " Count of READM Measures Worse                                                        0\n",
       " READM Group Footnote                                                               NaN\n",
       " Pt Exp Group Measure Count                                                           8\n",
       " Count of Facility Pt Exp Measures                                                    8\n",
       " Pt Exp Group Footnote                                                              NaN\n",
       " TE Group Measure Count                                                              12\n",
       " Count of Facility TE Measures                                                        5\n",
       " TE Group Footnote                                                                  NaN\n",
       " Name: 5190, dtype: object,\n",
       " Facility ID                                                                               520063\n",
       " Facility Name                                            ST JOSEPHS COMMUNITY HOSPITAL WEST BEND\n",
       " Address                                                                3200 PLEASANT VALLEY ROAD\n",
       " City                                                                                   WEST BEND\n",
       " State                                                                                         WI\n",
       " ZIP Code                                                                                   53095\n",
       " County Name                                                                           WASHINGTON\n",
       " Phone Number                                                                      (262) 334-5533\n",
       " Hospital Type                                                               Acute Care Hospitals\n",
       " Hospital Ownership                                                Voluntary non-profit - Private\n",
       " Emergency Services                                                                           Yes\n",
       " Meets criteria for promoting interoperability of EHRs                                          Y\n",
       " Hospital overall rating                                                                        5\n",
       " Hospital overall rating footnote                                                             NaN\n",
       " MORT Group Measure Count                                                                       7\n",
       " Count of Facility MORT Measures                                                                4\n",
       " Count of MORT Measures Better                                                                  0\n",
       " Count of MORT Measures No Different                                                            4\n",
       " Count of MORT Measures Worse                                                                   0\n",
       " MORT Group Footnote                                                                          NaN\n",
       " Safety Group Measure Count                                                                     8\n",
       " Count of Facility Safety Measures                                                              4\n",
       " Count of Safety Measures Better                                                                1\n",
       " Count of Safety Measures No Different                                                          3\n",
       " Count of Safety Measures Worse                                                                 0\n",
       " Safety Group Footnote                                                                        NaN\n",
       " READM Group Measure Count                                                                     11\n",
       " Count of Facility READM Measures                                                               9\n",
       " Count of READM Measures Better                                                                 2\n",
       " Count of READM Measures No Different                                                           7\n",
       " Count of READM Measures Worse                                                                  0\n",
       " READM Group Footnote                                                                         NaN\n",
       " Pt Exp Group Measure Count                                                                     8\n",
       " Count of Facility Pt Exp Measures                                                              8\n",
       " Pt Exp Group Footnote                                                                        NaN\n",
       " TE Group Measure Count                                                                        12\n",
       " Count of Facility TE Measures                                                                  8\n",
       " TE Group Footnote                                                                            NaN\n",
       " Name: 5093, dtype: object,\n",
       " Facility ID                                                                      520071\n",
       " Facility Name                                                    FORT MEMORIAL HOSPITAL\n",
       " Address                                                               611 SHERMAN AVE E\n",
       " City                                                                      FORT ATKINSON\n",
       " State                                                                                WI\n",
       " ZIP Code                                                                          53538\n",
       " County Name                                                                   JEFFERSON\n",
       " Phone Number                                                             (920) 568-5000\n",
       " Hospital Type                                                      Acute Care Hospitals\n",
       " Hospital Ownership                                       Voluntary non-profit - Private\n",
       " Emergency Services                                                                  Yes\n",
       " Meets criteria for promoting interoperability of EHRs                                 Y\n",
       " Hospital overall rating                                                               5\n",
       " Hospital overall rating footnote                                                    NaN\n",
       " MORT Group Measure Count                                                              7\n",
       " Count of Facility MORT Measures                                                       4\n",
       " Count of MORT Measures Better                                                         0\n",
       " Count of MORT Measures No Different                                                   4\n",
       " Count of MORT Measures Worse                                                          0\n",
       " MORT Group Footnote                                                                 NaN\n",
       " Safety Group Measure Count                                                            8\n",
       " Count of Facility Safety Measures                                                     3\n",
       " Count of Safety Measures Better                                                       0\n",
       " Count of Safety Measures No Different                                                 3\n",
       " Count of Safety Measures Worse                                                        0\n",
       " Safety Group Footnote                                                               NaN\n",
       " READM Group Measure Count                                                            11\n",
       " Count of Facility READM Measures                                                      7\n",
       " Count of READM Measures Better                                                        0\n",
       " Count of READM Measures No Different                                                  7\n",
       " Count of READM Measures Worse                                                         0\n",
       " READM Group Footnote                                                                NaN\n",
       " Pt Exp Group Measure Count                                                            8\n",
       " Count of Facility Pt Exp Measures                                                     8\n",
       " Pt Exp Group Footnote                                                               NaN\n",
       " TE Group Measure Count                                                               12\n",
       " Count of Facility TE Measures                                                         6\n",
       " TE Group Footnote                                                                   NaN\n",
       " Name: 5096, dtype: object,\n",
       " Facility ID                                                                      521359\n",
       " Facility Name                                                   MEMORIAL MEDICAL CENTER\n",
       " Address                                                                 1615 MAPLE LANE\n",
       " City                                                                            ASHLAND\n",
       " State                                                                                WI\n",
       " ZIP Code                                                                          54806\n",
       " County Name                                                                     ASHLAND\n",
       " Phone Number                                                             (715) 685-5500\n",
       " Hospital Type                                                 Critical Access Hospitals\n",
       " Hospital Ownership                                       Voluntary non-profit - Private\n",
       " Emergency Services                                                                  Yes\n",
       " Meets criteria for promoting interoperability of EHRs                               NaN\n",
       " Hospital overall rating                                                               5\n",
       " Hospital overall rating footnote                                                    NaN\n",
       " MORT Group Measure Count                                                              7\n",
       " Count of Facility MORT Measures                                                       4\n",
       " Count of MORT Measures Better                                                         0\n",
       " Count of MORT Measures No Different                                                   4\n",
       " Count of MORT Measures Worse                                                          0\n",
       " MORT Group Footnote                                                                 NaN\n",
       " Safety Group Measure Count                                                            8\n",
       " Count of Facility Safety Measures                                                     1\n",
       " Count of Safety Measures Better                                                       0\n",
       " Count of Safety Measures No Different                                                 1\n",
       " Count of Safety Measures Worse                                                        0\n",
       " Safety Group Footnote                                                               NaN\n",
       " READM Group Measure Count                                                            11\n",
       " Count of Facility READM Measures                                                      9\n",
       " Count of READM Measures Better                                                        0\n",
       " Count of READM Measures No Different                                                  9\n",
       " Count of READM Measures Worse                                                         0\n",
       " READM Group Footnote                                                                NaN\n",
       " Pt Exp Group Measure Count                                                            8\n",
       " Count of Facility Pt Exp Measures                                                     8\n",
       " Pt Exp Group Footnote                                                               NaN\n",
       " TE Group Measure Count                                                               12\n",
       " Count of Facility TE Measures                                                         4\n",
       " TE Group Footnote                                                                   NaN\n",
       " Name: 5191, dtype: object,\n",
       " Facility ID                                                                               520083\n",
       " Facility Name                                            SSM HEALTH ST MARY'S HOSPITAL - MADISON\n",
       " Address                                                                        700 SOUTH PARK ST\n",
       " City                                                                                     MADISON\n",
       " State                                                                                         WI\n",
       " ZIP Code                                                                                   53715\n",
       " County Name                                                                                 DANE\n",
       " Phone Number                                                                      (608) 251-6100\n",
       " Hospital Type                                                               Acute Care Hospitals\n",
       " Hospital Ownership                                                Voluntary non-profit - Private\n",
       " Emergency Services                                                                           Yes\n",
       " Meets criteria for promoting interoperability of EHRs                                          Y\n",
       " Hospital overall rating                                                                        5\n",
       " Hospital overall rating footnote                                                             NaN\n",
       " MORT Group Measure Count                                                                       7\n",
       " Count of Facility MORT Measures                                                                7\n",
       " Count of MORT Measures Better                                                                  0\n",
       " Count of MORT Measures No Different                                                            7\n",
       " Count of MORT Measures Worse                                                                   0\n",
       " MORT Group Footnote                                                                          NaN\n",
       " Safety Group Measure Count                                                                     8\n",
       " Count of Facility Safety Measures                                                              8\n",
       " Count of Safety Measures Better                                                                2\n",
       " Count of Safety Measures No Different                                                          6\n",
       " Count of Safety Measures Worse                                                                 0\n",
       " Safety Group Footnote                                                                        NaN\n",
       " READM Group Measure Count                                                                     11\n",
       " Count of Facility READM Measures                                                              10\n",
       " Count of READM Measures Better                                                                 2\n",
       " Count of READM Measures No Different                                                           8\n",
       " Count of READM Measures Worse                                                                  0\n",
       " READM Group Footnote                                                                         NaN\n",
       " Pt Exp Group Measure Count                                                                     8\n",
       " Count of Facility Pt Exp Measures                                                              8\n",
       " Pt Exp Group Footnote                                                                        NaN\n",
       " TE Group Measure Count                                                                        12\n",
       " Count of Facility TE Measures                                                                  5\n",
       " TE Group Footnote                                                                            NaN\n",
       " Name: 5100, dtype: object,\n",
       " Facility ID                                                                                         520004\n",
       " Facility Name                                            MAYO CLINIC HEALTH SYSTEM-FRANCISCAN MEDICAL C...\n",
       " Address                                                                              700 WEST AVENUE SOUTH\n",
       " City                                                                                             LA CROSSE\n",
       " State                                                                                                   WI\n",
       " ZIP Code                                                                                             54601\n",
       " County Name                                                                                      LA CROSSE\n",
       " Phone Number                                                                                (608) 785-0940\n",
       " Hospital Type                                                                         Acute Care Hospitals\n",
       " Hospital Ownership                                                          Voluntary non-profit - Private\n",
       " Emergency Services                                                                                     Yes\n",
       " Meets criteria for promoting interoperability of EHRs                                                    Y\n",
       " Hospital overall rating                                                                                  5\n",
       " Hospital overall rating footnote                                                                       NaN\n",
       " MORT Group Measure Count                                                                                 7\n",
       " Count of Facility MORT Measures                                                                          6\n",
       " Count of MORT Measures Better                                                                            0\n",
       " Count of MORT Measures No Different                                                                      6\n",
       " Count of MORT Measures Worse                                                                             0\n",
       " MORT Group Footnote                                                                                    NaN\n",
       " Safety Group Measure Count                                                                               8\n",
       " Count of Facility Safety Measures                                                                        7\n",
       " Count of Safety Measures Better                                                                          1\n",
       " Count of Safety Measures No Different                                                                    6\n",
       " Count of Safety Measures Worse                                                                           0\n",
       " Safety Group Footnote                                                                                  NaN\n",
       " READM Group Measure Count                                                                               11\n",
       " Count of Facility READM Measures                                                                        10\n",
       " Count of READM Measures Better                                                                           2\n",
       " Count of READM Measures No Different                                                                     8\n",
       " Count of READM Measures Worse                                                                            0\n",
       " READM Group Footnote                                                                                   NaN\n",
       " Pt Exp Group Measure Count                                                                               8\n",
       " Count of Facility Pt Exp Measures                                                                        8\n",
       " Pt Exp Group Footnote                                                                                  NaN\n",
       " TE Group Measure Count                                                                                  12\n",
       " Count of Facility TE Measures                                                                            9\n",
       " TE Group Footnote                                                                                      NaN\n",
       " Name: 5069, dtype: object,\n",
       " Facility ID                                                                      520089\n",
       " Facility Name                                                          MERITER HOSPITAL\n",
       " Address                                                                   202 S PARK ST\n",
       " City                                                                            MADISON\n",
       " State                                                                                WI\n",
       " ZIP Code                                                                          53715\n",
       " County Name                                                                        DANE\n",
       " Phone Number                                                             (608) 417-6000\n",
       " Hospital Type                                                      Acute Care Hospitals\n",
       " Hospital Ownership                                       Voluntary non-profit - Private\n",
       " Emergency Services                                                                  Yes\n",
       " Meets criteria for promoting interoperability of EHRs                                 Y\n",
       " Hospital overall rating                                                               5\n",
       " Hospital overall rating footnote                                                    NaN\n",
       " MORT Group Measure Count                                                              7\n",
       " Count of Facility MORT Measures                                                       6\n",
       " Count of MORT Measures Better                                                         1\n",
       " Count of MORT Measures No Different                                                   5\n",
       " Count of MORT Measures Worse                                                          0\n",
       " MORT Group Footnote                                                                 NaN\n",
       " Safety Group Measure Count                                                            8\n",
       " Count of Facility Safety Measures                                                     8\n",
       " Count of Safety Measures Better                                                       1\n",
       " Count of Safety Measures No Different                                                 6\n",
       " Count of Safety Measures Worse                                                        1\n",
       " Safety Group Footnote                                                               NaN\n",
       " READM Group Measure Count                                                            11\n",
       " Count of Facility READM Measures                                                     10\n",
       " Count of READM Measures Better                                                        0\n",
       " Count of READM Measures No Different                                                  9\n",
       " Count of READM Measures Worse                                                         1\n",
       " READM Group Footnote                                                                NaN\n",
       " Pt Exp Group Measure Count                                                            8\n",
       " Count of Facility Pt Exp Measures                                                     8\n",
       " Pt Exp Group Footnote                                                               NaN\n",
       " TE Group Measure Count                                                               12\n",
       " Count of Facility TE Measures                                                         7\n",
       " TE Group Footnote                                                                   NaN\n",
       " Name: 5103, dtype: object,\n",
       " Facility ID                                                                     520091\n",
       " Facility Name                                              HOWARD YOUNG MEDICAL CENTER\n",
       " Address                                                                   240 MAPLE ST\n",
       " City                                                                          WOODRUFF\n",
       " State                                                                               WI\n",
       " ZIP Code                                                                         54568\n",
       " County Name                                                                      VILAS\n",
       " Phone Number                                                            (715) 356-8000\n",
       " Hospital Type                                                     Acute Care Hospitals\n",
       " Hospital Ownership                                       Voluntary non-profit - Church\n",
       " Emergency Services                                                                 Yes\n",
       " Meets criteria for promoting interoperability of EHRs                              NaN\n",
       " Hospital overall rating                                                              5\n",
       " Hospital overall rating footnote                                                   NaN\n",
       " MORT Group Measure Count                                                             7\n",
       " Count of Facility MORT Measures                                                      4\n",
       " Count of MORT Measures Better                                                        0\n",
       " Count of MORT Measures No Different                                                  4\n",
       " Count of MORT Measures Worse                                                         0\n",
       " MORT Group Footnote                                                                NaN\n",
       " Safety Group Measure Count                                                           8\n",
       " Count of Facility Safety Measures                                                    3\n",
       " Count of Safety Measures Better                                                      0\n",
       " Count of Safety Measures No Different                                                3\n",
       " Count of Safety Measures Worse                                                       0\n",
       " Safety Group Footnote                                                              NaN\n",
       " READM Group Measure Count                                                           11\n",
       " Count of Facility READM Measures                                                     7\n",
       " Count of READM Measures Better                                                       2\n",
       " Count of READM Measures No Different                                                 5\n",
       " Count of READM Measures Worse                                                        0\n",
       " READM Group Footnote                                                               NaN\n",
       " Pt Exp Group Measure Count                                                           8\n",
       " Count of Facility Pt Exp Measures                                                    8\n",
       " Pt Exp Group Footnote                                                              NaN\n",
       " TE Group Measure Count                                                              12\n",
       " Count of Facility TE Measures                                                        5\n",
       " TE Group Footnote                                                                  NaN\n",
       " Name: 5104, dtype: object)"
      ]
     },
     "execution_count": 170,
     "metadata": {},
     "output_type": "execute_result"
    }
   ],
   "source": [
    "# make the out put longer (so it can display top ten hospitals)\n",
    "getTopRatedHospitalByStateAbbr('WI')"
   ]
  },
  {
   "cell_type": "code",
   "execution_count": 171,
   "metadata": {},
   "outputs": [
    {
     "data": {
      "text/plain": [
       "3.163157894736842"
      ]
     },
     "execution_count": 171,
     "metadata": {},
     "output_type": "execute_result"
    }
   ],
   "source": [
    "getOverallRatingsByStateAbbr('IL').mean()"
   ]
  },
  {
   "cell_type": "code",
   "execution_count": 172,
   "metadata": {},
   "outputs": [
    {
     "data": {
      "text/plain": [
       "4.090909090909091"
      ]
     },
     "execution_count": 172,
     "metadata": {},
     "output_type": "execute_result"
    }
   ],
   "source": [
    "getOverallRatingsByCity('MADISON').mean()"
   ]
  },
  {
   "cell_type": "code",
   "execution_count": 173,
   "metadata": {},
   "outputs": [
    {
     "data": {
      "text/plain": [
       "3544.667"
      ]
     },
     "execution_count": 173,
     "metadata": {},
     "output_type": "execute_result"
    }
   ],
   "source": [
    "getCrimeRateByStateAbbr(\"IL\")['rate'].sum()"
   ]
  },
  {
   "cell_type": "code",
   "execution_count": 174,
   "metadata": {},
   "outputs": [
    {
     "data": {
      "text/plain": [
       "3.3545150501672243"
      ]
     },
     "execution_count": 174,
     "metadata": {},
     "output_type": "execute_result"
    }
   ],
   "source": [
    "getOverallRatingsByHospitalOwnership('Voluntary non-profit - Church').mean()"
   ]
  },
  {
   "cell_type": "markdown",
   "metadata": {},
   "source": [
    "### Finding correlation between crime rate and hospital ratings\n",
    "Correlation is a statistical measure that expresses the extent to which two variables are linearly related (meaning they change together at a constant rate).\n",
    "\n",
    "If the coefficient value lies between ± 0.50 and ± 1, then it is said to be a strong correlation. Moderate degree: If the value lies between ± 0.30 and ± 0.49, then it is said to be a medium correlation. Low degree: When the value lies below + . 29, then it is said to be a small correlation."
   ]
  },
  {
   "cell_type": "code",
   "execution_count": 175,
   "metadata": {},
   "outputs": [],
   "source": [
    "# get all state hospital ratings (mean) and crime rates (combined) and create a dataframe\n",
    "\n",
    "states = []\n",
    "hospital_ratings = []\n",
    "crime_rates = []\n",
    "\n",
    "for state in us_state_list:\n",
    "    # add state to states array\n",
    "    states.append(state)\n",
    "    # add hospital rating to hospital_ratings array\n",
    "    hospital_ratings.append(getOverallRatingsByStateAbbr(state).mean())\n",
    "    # add crime rate to crime rates array\n",
    "    crime_rates.append(getCrimeRateByStateAbbr(state)['rate'].sum())\n",
    "    \n",
    "combined_df = pd.DataFrame({ \"states\": states, \"hospital_ratings\": hospital_ratings, \"crime_rates\": crime_rates })\n",
    "#print(combined_df)"
   ]
  },
  {
   "cell_type": "code",
   "execution_count": 176,
   "metadata": {},
   "outputs": [
    {
     "data": {
      "image/png": "[encoded data removed]",
      "text/plain": [
       "<Figure size 432x288 with 1 Axes>"
      ]
     },
     "metadata": {
      "needs_background": "light"
     },
     "output_type": "display_data"
    }
   ],
   "source": [
    "# Make bargraph\n",
    "X_axis = np.arange(len(combined_df.states))\n",
    "fig = plt.figure()\n",
    "ax = fig.add_axes([1, 1, 2, 2])\n",
    "ax.bar(X_axis -0.2, combined_df['hospital_ratings'].values*1000, 0.4, label=\"Hospital Rating\")\n",
    "ax.bar(X_axis +0.2, combined_df['crime_rates'].values, 0.4, label=\"Crime Rate\")\n",
    "plt.xticks(X_axis, combined_df['states'].values)\n",
    "plt.xlabel(\"State\")\n",
    "plt.ylabel(\"Rating Score\")\n",
    "plt.title(\"Hospital Rating & Combined Crime Rating per State\")\n",
    "plt.legend()\n",
    "plt.show()"
   ]
  },
  {
   "cell_type": "markdown",
   "metadata": {},
   "source": [
    "### Results from Analysis For Combined Crime Rate (Includes Violent and Non Violent Crime Rates)\n",
    "States that support the hypothesis:\n",
    "- District of Columbia (DC)\n",
    "- New Mexico (NM)\n",
    "- Mississippi (MS)\n",
    "- Georgia (GA)\n",
    "- Arkansas (AR)\n",
    "- Arizona (AZ)\n",
    "- Alaska (AK)\n",
    "\n",
    "A low hospital rating was defined as being below the mean and a high crime rate was defined as being above the mean. Both of these aspects needed to be true to support our hypothesis."
   ]
  },
  {
   "cell_type": "code",
   "execution_count": 177,
   "metadata": {},
   "outputs": [
    {
     "data": {
      "image/png": "[encoded data removed]",
      "text/plain": [
       "<Figure size 432x288 with 1 Axes>"
      ]
     },
     "metadata": {
      "needs_background": "light"
     },
     "output_type": "display_data"
    }
   ],
   "source": [
    "#Cooler Scatterplot\n",
    "plt.xlabel('Hospital Rating')\n",
    "plt.ylabel('Crime Rate')\n",
    "plt.title(\"Hospital Rating & Combined Crime Rating Scatter\")\n",
    "plt.show(sns.regplot(x='hospital_ratings', y='crime_rates', data = combined_df))"
   ]
  },
  {
   "cell_type": "code",
   "execution_count": 178,
   "metadata": {},
   "outputs": [
    {
     "name": "stdout",
     "output_type": "stream",
     "text": [
      "-0.22\n",
      "small correlation\n"
     ]
    }
   ],
   "source": [
    "# correlation (combined)\n",
    "corr = combined_df[\"hospital_ratings\"].corr(combined_df[\"crime_rates\"])\n",
    "print (round(corr, 2))\n",
    "print (\"small correlation\")"
   ]
  },
  {
   "cell_type": "code",
   "execution_count": 179,
   "metadata": {},
   "outputs": [],
   "source": [
    "# get all state hospital ratings (mean) and (non violent) crime rates and create a dataframe\n",
    "\n",
    "nv_states = []\n",
    "nv_hospital_ratings = []\n",
    "nv_crime_rates = []\n",
    "\n",
    "for state in us_state_list:\n",
    "    # add state to states array\n",
    "    nv_states.append(state)\n",
    "    # add hospital rating to hospital_ratings array\n",
    "    nv_hospital_ratings.append(getOverallRatingsByStateAbbr(state).mean())\n",
    "    # add crime rate to crime rates array\n",
    "    nv_crime_rates.append(getCrimeRateByStateAbbr(state)['nonViolentRate'].sum())\n",
    "    \n",
    "nv_df = pd.DataFrame({ \"states\": nv_states, \"hospital_ratings\": nv_hospital_ratings, \"crime_rates\": nv_crime_rates })\n",
    "#print(nv_df)"
   ]
  },
  {
   "cell_type": "code",
   "execution_count": 180,
   "metadata": {},
   "outputs": [
    {
     "data": {
      "image/png": "[encoded data removed]",
      "text/plain": [
       "<Figure size 432x288 with 1 Axes>"
      ]
     },
     "metadata": {
      "needs_background": "light"
     },
     "output_type": "display_data"
    }
   ],
   "source": [
    "# Make bargraph for non violent crime rates\n",
    "X_axis = np.arange(len(nv_df.states))\n",
    "fig = plt.figure()\n",
    "ax = fig.add_axes([1, 1, 2, 2])\n",
    "ax.bar(X_axis -0.2, nv_df['hospital_ratings'].values*1000, 0.4, label=\"Hospital Rating\")\n",
    "ax.bar(X_axis +0.2, nv_df['crime_rates'].values, 0.4, label=\"Crime Rate\")\n",
    "plt.xticks(X_axis, nv_df['states'].values)\n",
    "plt.xlabel(\"State\")\n",
    "plt.ylabel(\"Rating Score\")\n",
    "plt.title(\"Hospital Rating & Non Violent Crime Rating per State\")\n",
    "plt.legend()\n",
    "plt.show()"
   ]
  },
  {
   "cell_type": "code",
   "execution_count": 181,
   "metadata": {},
   "outputs": [
    {
     "data": {
      "image/png": "[encoded data removed]",
      "text/plain": [
       "<Figure size 432x288 with 1 Axes>"
      ]
     },
     "metadata": {
      "needs_background": "light"
     },
     "output_type": "display_data"
    }
   ],
   "source": [
    "# Non violent scatterplot\n",
    "plt.xlabel('Hospital Rating')\n",
    "plt.ylabel('Crime Rate')\n",
    "plt.title(\"Hospital Rating & Non Violent Crime Rating Scatter\")\n",
    "plt.show(sns.regplot(x='hospital_ratings', y='crime_rates', data = nv_df))"
   ]
  },
  {
   "cell_type": "code",
   "execution_count": 182,
   "metadata": {},
   "outputs": [
    {
     "name": "stdout",
     "output_type": "stream",
     "text": [
      "-0.17\n",
      "small correlation\n"
     ]
    }
   ],
   "source": [
    "# correlation (non violent)\n",
    "corr = nv_df[\"hospital_ratings\"].corr(nv_df[\"crime_rates\"])\n",
    "print (round(corr, 2))\n",
    "print (\"small correlation\")"
   ]
  },
  {
   "cell_type": "markdown",
   "metadata": {},
   "source": [
    "### Results from Analysis - Non Violent (TO BE CHANGED)\n",
    "States that support the hypothesis:\n",
    "- District of Columbia (DC)\n",
    "- New Mexico (NM)\n",
    "- Mississippi (MS)\n",
    "- Georgia (GA)\n",
    "- Arkansas (AR)\n",
    "- Arizona (AZ)\n",
    "- Alaska (AK)\n",
    "\n",
    "A low hospital rating was defined as being below the mean and a high crime rate was defined as being above the mean. Both of these aspects needed to be true to support our hypothesis."
   ]
  },
  {
   "cell_type": "code",
   "execution_count": 183,
   "metadata": {},
   "outputs": [],
   "source": [
    "# get all state hospital ratings (mean) and (violent) crime rates and create a dataframe\n",
    "\n",
    "v_states = []\n",
    "v_hospital_ratings = []\n",
    "v_crime_rates = []\n",
    "\n",
    "for state in us_state_list:\n",
    "    # add state to states array\n",
    "    v_states.append(state)\n",
    "    # add hospital rating to hospital_ratings array\n",
    "    v_hospital_ratings.append(getOverallRatingsByStateAbbr(state).mean())\n",
    "    # add crime rate to crime rates array\n",
    "    v_crime_rates.append(getCrimeRateByStateAbbr(state)['violentRate'].sum())\n",
    "    #print (state)\n",
    "    \n",
    "v_df = pd.DataFrame({ \"states\": v_states, \"hospital_ratings\": v_hospital_ratings, \"crime_rates\": v_crime_rates })\n",
    "#print(v_df)"
   ]
  },
  {
   "cell_type": "code",
   "execution_count": 184,
   "metadata": {},
   "outputs": [
    {
     "data": {
      "image/png": "[encoded data removed]",
      "text/plain": [
       "<Figure size 432x288 with 1 Axes>"
      ]
     },
     "metadata": {
      "needs_background": "light"
     },
     "output_type": "display_data"
    }
   ],
   "source": [
    "# Make bargraph violent\n",
    "X_axis = np.arange(len(v_df.states))\n",
    "fig = plt.figure()\n",
    "ax = fig.add_axes([1, 1, 2, 2])\n",
    "ax.bar(X_axis -0.2, v_df['hospital_ratings'].values*1000, 0.4, label=\"Hospital Rating\")\n",
    "ax.bar(X_axis +0.2, v_df['crime_rates'].values, 0.4, label=\"Crime Rate\")\n",
    "plt.xticks(X_axis, v_df['states'].values)\n",
    "plt.xlabel(\"State\")\n",
    "plt.ylabel(\"Rating Score\")\n",
    "plt.title(\"Hospital Rating & Violent Crime Rating per State\")\n",
    "plt.legend()\n",
    "plt.show()"
   ]
  },
  {
   "cell_type": "code",
   "execution_count": 185,
   "metadata": {},
   "outputs": [
    {
     "data": {
      "image/png": "[encoded data removed]",
      "text/plain": [
       "<Figure size 432x288 with 1 Axes>"
      ]
     },
     "metadata": {
      "needs_background": "light"
     },
     "output_type": "display_data"
    }
   ],
   "source": [
    "# Violent scatterplot\n",
    "plt.xlabel('Hospital Rating')\n",
    "plt.ylabel('Crime Rate')\n",
    "plt.title(\"Hospital Rating & Violent Crime Rating Scatter\")\n",
    "plt.show(sns.regplot(x='hospital_ratings', y='crime_rates', data = v_df))"
   ]
  },
  {
   "cell_type": "code",
   "execution_count": 186,
   "metadata": {},
   "outputs": [
    {
     "name": "stdout",
     "output_type": "stream",
     "text": [
      "-0.52\n",
      "strong correlation\n"
     ]
    }
   ],
   "source": [
    "# correlation \n",
    "corr = v_df[\"hospital_ratings\"].corr(v_df[\"crime_rates\"])\n",
    "print (round(corr, 2))\n",
    "print (\"strong correlation\")"
   ]
  },
  {
   "cell_type": "markdown",
   "metadata": {},
   "source": [
    "### Results from Analysis - Violent Rates (TO BE CHANGED)\n",
    "States that support the hypothesis:\n",
    "- District of Columbia (DC)\n",
    "- New Mexico (NM)\n",
    "- Mississippi (MS)\n",
    "- Georgia (GA)\n",
    "- Arkansas (AR)\n",
    "- Arizona (AZ)\n",
    "- Alaska (AK)\n",
    "\n",
    "A low hospital rating was defined as being below the mean and a high crime rate was defined as being above the mean. Both of these aspects needed to be true to support our hypothesis."
   ]
  },
  {
   "cell_type": "markdown",
   "metadata": {},
   "source": [
    "### What Hospital Ownerships (Source of Fundings) Have Highest Hospital Ratings"
   ]
  },
  {
   "cell_type": "code",
   "execution_count": 187,
   "metadata": {},
   "outputs": [],
   "source": [
    "# convert ownerships dictionary to a list (to iterate)\n",
    "ownerships_list = list (s_ownerships.values())\n",
    "\n",
    "ownership_type = []\n",
    "overall_mean_rating = []\n",
    "\n",
    "# get mean hospital ratings per ownership type\n",
    "for o_type in ownerships_list:\n",
    "    # get and add ownership type to ownership type array\n",
    "    ownership_type.append(o_type)\n",
    "    # get and add overall rating to overall_mean_rating array\n",
    "    overall_mean_rating.append(getOverallRatingsByHospitalOwnership(o_type).mean())\n",
    "    \n",
    "\n",
    "# create the ownership type dataframe\n",
    "ownership_type_ratings_df = pd.DataFrame({ \"ownership type\": ownership_type, \"overall mean rating\": overall_mean_rating})\n",
    "#print(ownership_type_ratings_df)"
   ]
  },
  {
   "cell_type": "code",
   "execution_count": 188,
   "metadata": {},
   "outputs": [
    {
     "data": {
      "image/png": "[encoded data removed]",
      "text/plain": [
       "<Figure size 432x288 with 1 Axes>"
      ]
     },
     "metadata": {
      "needs_background": "light"
     },
     "output_type": "display_data"
    }
   ],
   "source": [
    "# make bar chart to show results visually\n",
    "ownership_type_ratings_df.plot.bar(x=\"ownership type\", y=\"overall mean rating\", rot=90, title=\"Hospital Ratings Based on Ownership Type\");\n",
    "\n",
    "plt.show();\n"
   ]
  },
  {
   "cell_type": "code",
   "execution_count": 189,
   "metadata": {},
   "outputs": [
    {
     "name": "stdout",
     "output_type": "stream",
     "text": [
      "                                ownership type  overall mean rating\n",
      "0  Government - Hospital District or Authority             2.454198\n",
      "1                                  Proprietary             2.459792\n",
      "2               Voluntary non-profit - Private             3.231145\n",
      "3                           Government - State             3.009804\n",
      "4                 Voluntary non-profit - Other             3.278947\n",
      "5                           Government - Local             2.466981\n",
      "6                Voluntary non-profit - Church             3.354515\n",
      "7                         Government - Federal             3.000000\n",
      "8                                       Tribal             2.000000\n",
      "9                                    Physician             3.189189\n"
     ]
    }
   ],
   "source": [
    "# why is this not sorting correctly??? I want the dataframe to sort by overall mean rating (highest ratings first)\n",
    "ownership_type_ratings_df.sort_values(by=\"overall mean rating\", ascending=False)\n",
    "print(ownership_type_ratings_df)"
   ]
  },
  {
   "cell_type": "markdown",
   "metadata": {},
   "source": [
    "### Results from Analysis: What Hospital Ownerships (Source of Fundings) Have Highest Hospital Ratings?\n",
    "Voluntary non-profit - Church owned hospitals had the highest overall ratings (3.35)\n",
    "Voluntary non-profit - Other owned hospitals had the 2nd highest overall ratings (3.27)\n",
    "Voluntary non-profit - Private owned hospitals had the 3rd highest overall ratings (3.23)\n",
    "Physician owned hospitals had 4th highest overall ratings (3.19)\n",
    "\n",
    "Tribal owned hospitals had the lowest overall ratings (2.00)\n"
   ]
  },
  {
   "cell_type": "markdown",
   "metadata": {},
   "source": [
    "### What is the correlation between hospital rating and city population?"
   ]
  },
  {
   "cell_type": "code",
   "execution_count": 190,
   "metadata": {},
   "outputs": [
    {
     "name": "stdout",
     "output_type": "stream",
     "text": [
      "      city_population  hospital_rating\n",
      "0               71182         2.500000\n",
      "1              200763         2.444444\n",
      "2              200763         2.444444\n",
      "3              200567         2.250000\n",
      "4              200567         2.250000\n",
      "...               ...              ...\n",
      "2240           959549         3.294118\n",
      "2241            85461         3.250000\n",
      "2242           200675         4.200000\n",
      "2243            72654         3.000000\n",
      "2244           111046         4.200000\n",
      "\n",
      "[2245 rows x 2 columns]\n"
     ]
    }
   ],
   "source": [
    "# do bigger cities have better or worse hospital ratings? What is the correlation (if any)\n",
    "all_cities_in_hospital_df = list()\n",
    "cities_in_both_datasets = list()\n",
    "\n",
    "city_population = []\n",
    "hospital_rating = []\n",
    "\n",
    "for index in hospital_df.index:\n",
    "    all_cities_in_hospital_df.append(hospital_df[\"City\"][index])\n",
    "\n",
    "#print(all_cities_in_hospital_df)\n",
    "    \n",
    "for city in all_cities_in_hospital_df:\n",
    "    cities_in_both_datasets.append(city)\n",
    "\n",
    "type_to_return = type(getPopulationByCity('MADISON'))\n",
    "type_to_returnR = type(getOverallRatingsByCity('MADISON'))\n",
    "\n",
    "# get all cities population sizes\n",
    "for city in cities_in_both_datasets:\n",
    "    if (type(getOverallRatingsByCity(city)) == type_to_returnR):\n",
    "        \n",
    "        if ((type(getPopulationByCity(city)) == type_to_return)):\n",
    "            # add city population to cities array\n",
    "            city_population.append(getPopulationByCity(city))\n",
    "            # find hospital of the city and add to hospital ratings array\n",
    "            hospital_rating.append(getOverallRatingsByCity(city).mean())\n",
    "            #print(hospital_rating)\n",
    "\n",
    "population_df = pd.DataFrame({ \"city_population\": city_population, \"hospital_rating\": hospital_rating})\n",
    "print(population_df)"
   ]
  },
  {
   "cell_type": "code",
   "execution_count": 191,
   "metadata": {},
   "outputs": [
    {
     "data": {
      "image/png": "[encoded data removed]",
      "text/plain": [
       "<Figure size 432x288 with 1 Axes>"
      ]
     },
     "metadata": {
      "needs_background": "light"
     },
     "output_type": "display_data"
    }
   ],
   "source": [
    "# population scatterplot (scaling)\n",
    "plt.xlabel('Hospital Rating')\n",
    "plt.ylabel('City Population')\n",
    "plt.title(\"Hospital Rating & City Population\")\n",
    "plt.show(sns.regplot(x='hospital_rating', y='city_population', data = population_df))"
   ]
  },
  {
   "cell_type": "code",
   "execution_count": 192,
   "metadata": {},
   "outputs": [
    {
     "name": "stdout",
     "output_type": "stream",
     "text": [
      "-0.04\n",
      "not correlated\n"
     ]
    }
   ],
   "source": [
    "## correlation \n",
    "corr = population_df[\"hospital_rating\"].corr(population_df[\"city_population\"])\n",
    "print (round(corr, 2))\n",
    "print (\"not correlated\")"
   ]
  },
  {
   "cell_type": "code",
   "execution_count": null,
   "metadata": {},
   "outputs": [],
   "source": []
  }
 ],
 "metadata": {
  "kernelspec": {
   "display_name": "Python 3",
   "language": "python",
   "name": "python3"
  },
  "language_info": {
   "codemirror_mode": {
    "name": "ipython",
    "version": 3
   },
   "file_extension": ".py",
   "mimetype": "text/x-python",
   "name": "python",
   "nbconvert_exporter": "python",
   "pygments_lexer": "ipython3",
   "version": "3.7.4"
  }
 },
 "nbformat": 4,
 "nbformat_minor": 2
}
