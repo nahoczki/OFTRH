{
 "cells": [
  {
   "cell_type": "code",
   "execution_count": 101,
   "metadata": {},
   "outputs": [],
   "source": [
    "#imports\n",
    "import numpy as np\n",
    "import pandas as pd\n",
    "import math\n",
    "\n",
    "import matplotlib.pyplot as plt\n",
    "import seaborn as sns\n",
    "\n",
    "pd.options.mode.chained_assignment = None "
   ]
  },
  {
   "cell_type": "code",
   "execution_count": 6,
   "metadata": {},
   "outputs": [],
   "source": [
    "# importing graphs\n",
    "hospital_df = pd.read_csv(\"hosp_data.csv\")\n",
    "crime_df = pd.read_csv(\"crime_data.csv\")"
   ]
  },
  {
   "cell_type": "code",
   "execution_count": 92,
   "metadata": {},
   "outputs": [],
   "source": [
    "# Enum for converting state abrv to full name\n",
    "# https://gist.github.com/rogerallen/1583593\n",
    "\n",
    "us_state_to_abbrev = {\n",
    "    \"Alabama\": \"AL\",\n",
    "    \"Alaska\": \"AK\",\n",
    "    \"Arizona\": \"AZ\",\n",
    "    \"Arkansas\": \"AR\",\n",
    "    \"California\": \"CA\",\n",
    "    \"Colorado\": \"CO\",\n",
    "    \"Connecticut\": \"CT\",\n",
    "    \"Delaware\": \"DE\",\n",
    "    \"Florida\": \"FL\",\n",
    "    \"Georgia\": \"GA\",\n",
    "    \"Hawaii\": \"HI\",\n",
    "    \"Idaho\": \"ID\",\n",
    "    \"Illinois\": \"IL\",\n",
    "    \"Indiana\": \"IN\",\n",
    "    \"Iowa\": \"IA\",\n",
    "    \"Kansas\": \"KS\",\n",
    "    \"Kentucky\": \"KY\",\n",
    "    \"Louisiana\": \"LA\",\n",
    "    \"Maine\": \"ME\",\n",
    "    \"Maryland\": \"MD\",\n",
    "    \"Massachusetts\": \"MA\",\n",
    "    \"Michigan\": \"MI\",\n",
    "    \"Minnesota\": \"MN\",\n",
    "    \"Mississippi\": \"MS\",\n",
    "    \"Missouri\": \"MO\",\n",
    "    \"Montana\": \"MT\",\n",
    "    \"Nebraska\": \"NE\",\n",
    "    \"Nevada\": \"NV\",\n",
    "    \"New Hampshire\": \"NH\",\n",
    "    \"New Jersey\": \"NJ\",\n",
    "    \"New Mexico\": \"NM\",\n",
    "    \"New York\": \"NY\",\n",
    "    \"North Carolina\": \"NC\",\n",
    "    \"North Dakota\": \"ND\",\n",
    "    \"Ohio\": \"OH\",\n",
    "    \"Oklahoma\": \"OK\",\n",
    "    \"Oregon\": \"OR\",\n",
    "    \"Pennsylvania\": \"PA\",\n",
    "    \"Rhode Island\": \"RI\",\n",
    "    \"South Carolina\": \"SC\",\n",
    "    \"South Dakota\": \"SD\",\n",
    "    \"Tennessee\": \"TN\",\n",
    "    \"Texas\": \"TX\",\n",
    "    \"Utah\": \"UT\",\n",
    "    \"Vermont\": \"VT\",\n",
    "    \"Virginia\": \"VA\",\n",
    "    \"Washington\": \"WA\",\n",
    "    \"West Virginia\": \"WV\",\n",
    "    \"Wisconsin\": \"WI\",\n",
    "    \"Wyoming\": \"WY\",\n",
    "    \"District of Columbia\": \"DC\",\n",
    "}\n",
    "\n",
    "abbrev_to_us_state = dict(map(reversed, us_state_to_abbrev.items()))\n",
    "us_state_list = list (us_state_to_abbrev.values())"
   ]
  },
  {
   "cell_type": "markdown",
   "metadata": {},
   "source": [
    " # Operation Find Top-Rated Hospitals (OFTRH)"
   ]
  },
  {
   "cell_type": "markdown",
   "metadata": {},
   "source": [
    " ### Abstract\n",
    "\n",
    "Finding quality healthcare is important. The goal of this project is to provide patients with listings of top- rated hospitals near them, so they are provided with timely and quality care. With this information, another goal of this project is to attempt to explain reasoning for the such hospital ratings by comparing crime rates in the same areas. We hypothesize areas with higher crime rates will have lower funded hospitals and will therefore have lower hospital ratings and areas with lower crime rates will have better funded hospitals and therefore higher quality hospital ratings. To accomplish this, we will use the Hospital General Information data set available at this [site](https://data.cms.gov/provider-data/topics/hospitals) and extract the hospital ratings data for each state. The data provides key information on hospitals in the US including their name, state, rating and type of hospital ownership (government, proprietary, voluntary (non-profit), etc.). To determine the correlation(s) between hospital ratings and crime rates we will use the crime rate dataset from this [site](https://worldpopulationreview.com/state-rankings/crime-rate-by-state)."
   ]
  },
  {
   "cell_type": "markdown",
   "metadata": {},
   "source": [
    " ### Hypothesis\n",
    "    \n",
    "We hypothesize areas with higher crime rates will have lower funded hospitals and will therefore have lower hospital ratings and areas with lower crime rates will have better funded hospitals and therefore higher quality hospital ratings."
   ]
  },
  {
   "cell_type": "markdown",
   "metadata": {},
   "source": [
    " ### Process\n",
    " \n",
    " We will have to extract the hospital data organized by state then find correlations between the organized data and the crime rates by state. \n",
    " "
   ]
  },
  {
   "cell_type": "code",
   "execution_count": 112,
   "metadata": {
    "scrolled": true
   },
   "outputs": [],
   "source": [
    "# Takes in state input as abbr (WI, IL, etc)\n",
    "def getOverallRatingsByStateAbbr(state_abbr):\n",
    "    stateHospitals = hospital_df[hospital_df[\"State\"] == state_abbr]\n",
    "    # Drop `Not Available` then replace them with the mean of the dataset without `Not Available`\n",
    "    cleanedHospitalRating = stateHospitals[\"Hospital overall rating\"].replace(\"Not Available\", np.nan).dropna().astype(\"int64\")\n",
    "    return stateHospitals[\"Hospital overall rating\"].replace(\"Not Available\", cleanedHospitalRating.mean()).astype(\"int64\")\n",
    "\n",
    "# Get all hospitals by the state\n",
    "def getHospitalsByStateAbbr(state_abbr):\n",
    "    return hospital_df[hospital_df[\"State\"] == state_abbr]\n",
    "\n",
    "# Get all of the crime rates by state\n",
    "def getCrimeRateByStateAbbr(state_abbr):\n",
    "    return crime_df[crime_df[\"state\"] == abbrev_to_us_state[state_abbr]]\n",
    "\n",
    "# Get the top rated hospital by state\n",
    "def getTopRatedHospitalByStateAbbr(state_abbr):\n",
    "    hospitals = getHospitalsByStateAbbr(state_abbr)\n",
    "    hospitals.loc[:,\"Hospital overall rating\"] = hospitals[\"Hospital overall rating\"].replace(\"Not Available\", \"0\").astype(\"int64\")\n",
    "    sorted = hospitals.sort_values(by=[\"Hospital overall rating\"], ascending=False)\n",
    "    \n",
    "    return sorted.iloc[0]\n",
    "\n",
    "# Get total number of hospitals by state\n",
    "def getNumberOfHospitalsByStateAbbr(state_abbr):\n",
    "    return len(getHospitalsByStateAbbr(state_abbr))"
   ]
  },
  {
   "cell_type": "code",
   "execution_count": 13,
   "metadata": {},
   "outputs": [
    {
     "data": {
      "text/plain": [
       "3.163157894736842"
      ]
     },
     "execution_count": 13,
     "metadata": {},
     "output_type": "execute_result"
    }
   ],
   "source": [
    "getOverallRatingsByStateAbbr('IL').mean()"
   ]
  },
  {
   "cell_type": "code",
   "execution_count": 20,
   "metadata": {},
   "outputs": [
    {
     "data": {
      "text/plain": [
       "3544.667"
      ]
     },
     "execution_count": 20,
     "metadata": {},
     "output_type": "execute_result"
    }
   ],
   "source": [
    "getCrimeRateByStateAbbr(\"IL\")['rate'].sum()"
   ]
  },
  {
   "cell_type": "markdown",
   "metadata": {},
   "source": [
    "### Correlation \n",
    "Correlation is a statistical measure that expresses the extent to which two variables are linearly related (meaning they change together at a constant rate). It's a common tool for describing simple relationships without making a statement about cause and effect"
   ]
  },
  {
   "cell_type": "code",
   "execution_count": 17,
   "metadata": {},
   "outputs": [
    {
     "name": "stdout",
     "output_type": "stream",
     "text": [
      "AL\n",
      "AK\n",
      "AZ\n",
      "AR\n",
      "CA\n",
      "CO\n",
      "CT\n",
      "DE\n",
      "FL\n",
      "GA\n",
      "HI\n",
      "ID\n",
      "IL\n",
      "IN\n",
      "IA\n",
      "KS\n",
      "KY\n",
      "LA\n",
      "ME\n",
      "MD\n",
      "MA\n",
      "MI\n",
      "MN\n",
      "MS\n",
      "MO\n",
      "MT\n",
      "NE\n",
      "NV\n",
      "NH\n",
      "NJ\n",
      "NM\n",
      "NY\n",
      "NC\n",
      "ND\n",
      "OH\n",
      "OK\n",
      "OR\n",
      "PA\n",
      "RI\n",
      "SC\n",
      "SD\n",
      "TN\n",
      "TX\n",
      "UT\n",
      "VT\n",
      "VA\n",
      "WA\n",
      "WV\n",
      "WI\n",
      "WY\n",
      "DC\n",
      "AS\n",
      "GU\n",
      "MP\n",
      "PR\n",
      "UM\n",
      "VI\n"
     ]
    }
   ],
   "source": [
    "for state in us_state_list:\n",
    "    print (state)"
   ]
  },
  {
   "cell_type": "code",
   "execution_count": null,
   "metadata": {},
   "outputs": [],
   "source": [
    "# get all state hospital ratings (mean) and crime rates\n",
    "for state in us_state_list:\n",
    "    # get rating\n",
    "    getOverallRatingsByStateAbbr(state).mean()\n",
    "    # add this to a list or something\n",
    "    getCrimeRateByStateAbbr(state)"
   ]
  },
  {
   "cell_type": "code",
   "execution_count": 105,
   "metadata": {},
   "outputs": [
    {
     "data": {
      "text/plain": [
       "Facility ID                                                                      360365\n",
       "Facility Name                                                             AVITA ONTARIO\n",
       "Address                                                               715 RICHLAND MALL\n",
       "City                                                                            ONTARIO\n",
       "State                                                                                OH\n",
       "ZIP Code                                                                          44906\n",
       "County Name                                                                    RICHLAND\n",
       "Phone Number                                                             (419) 462-4534\n",
       "Hospital Type                                                      Acute Care Hospitals\n",
       "Hospital Ownership                                       Voluntary non-profit - Private\n",
       "Emergency Services                                                                  Yes\n",
       "Meets criteria for promoting interoperability of EHRs                                 Y\n",
       "Hospital overall rating                                                               5\n",
       "Hospital overall rating footnote                                                    NaN\n",
       "MORT Group Measure Count                                                              7\n",
       "Count of Facility MORT Measures                                                       5\n",
       "Count of MORT Measures Better                                                         0\n",
       "Count of MORT Measures No Different                                                   5\n",
       "Count of MORT Measures Worse                                                          0\n",
       "MORT Group Footnote                                                                 NaN\n",
       "Safety Group Measure Count                                                            8\n",
       "Count of Facility Safety Measures                                                     3\n",
       "Count of Safety Measures Better                                                       0\n",
       "Count of Safety Measures No Different                                                 3\n",
       "Count of Safety Measures Worse                                                        0\n",
       "Safety Group Footnote                                                               NaN\n",
       "READM Group Measure Count                                                            11\n",
       "Count of Facility READM Measures                                                      7\n",
       "Count of READM Measures Better                                                        1\n",
       "Count of READM Measures No Different                                                  6\n",
       "Count of READM Measures Worse                                                         0\n",
       "READM Group Footnote                                                                NaN\n",
       "Pt Exp Group Measure Count                                                            8\n",
       "Count of Facility Pt Exp Measures                                                     8\n",
       "Pt Exp Group Footnote                                                               NaN\n",
       "TE Group Measure Count                                                               12\n",
       "Count of Facility TE Measures                                                         6\n",
       "TE Group Footnote                                                                   NaN\n",
       "Name: 3602, dtype: object"
      ]
     },
     "execution_count": 105,
     "metadata": {},
     "output_type": "execute_result"
    }
   ],
   "source": [
    "getTopRatedHospitalByStateAbbr(\"OH\")"
   ]
  },
  {
   "cell_type": "code",
   "execution_count": null,
   "metadata": {},
   "outputs": [],
   "source": []
  }
 ],
 "metadata": {
  "kernelspec": {
   "display_name": "Python 3 (ipykernel)",
   "language": "python",
   "name": "python3"
  },
  "language_info": {
   "codemirror_mode": {
    "name": "ipython",
    "version": 3
   },
   "file_extension": ".py",
   "mimetype": "text/x-python",
   "name": "python",
   "nbconvert_exporter": "python",
   "pygments_lexer": "ipython3",
   "version": "3.9.12"
  }
 },
 "nbformat": 4,
 "nbformat_minor": 2
}
